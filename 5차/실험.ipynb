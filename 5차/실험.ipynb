{
 "cells": [
  {
   "cell_type": "code",
   "execution_count": 4,
   "metadata": {},
   "outputs": [
    {
     "name": "stdout",
     "output_type": "stream",
     "text": [
      "0\n",
      "끝\n",
      "0\n",
      "끝\n",
      "0\n",
      "끝\n",
      "0\n",
      "끝\n"
     ]
    }
   ],
   "source": [
    "import numpy as np\n",
    "ids, lbls = np.empty((0, 40), dtype=np.int32), np.empty((0, 40), dtype=np.int32)\n",
    "tasks = [(0,), (1,), (0,), (1,)]\n",
    "all_ids, all_labels = np.array([], dtype=np.int32), np.array([], dtype=np.int32)\n",
    "for task in tasks:   \n",
    "    task_ids, task_labels = np.array([], dtype=np.int32), np.array([], dtype=np.int32)\n",
    "    labels = np.empty(5, dtype=np.int32)\n",
    "    label_ids = np.random.choice(ids_per_label[label], self._batch_size)   # 여기서 0이랑 1 순서 섞이는게 아니라 0 안에서 랜덤 추출\n",
    "    \n",
    "    labels.fill(task[0])    # 원래 i였는데 i가 아니라 label로 넣어야하지 않나? 내가 바꿔줌 -- i로 하면 무조건 0임..\n",
    "\n",
    "    #task_labels = np.append(task_labels, labels) \n",
    "    #task_ids = np.append(task_ids, label_ids)    \n",
    "    print(\"끝\")\n",
    "    all_labels = np.append(all_labels, task_labels)\n",
    "    all_ids = np.append(all_ids, task_ids)\n",
    "#ids = np.append(ids, [all_ids], axis=0)        # 인덱스 [44294 21837   726 ... 35697 10132 23818] (6, 40) (1, 40)\n",
    "#lbls = np.append(lbls, [all_labels], axis=0)"
   ]
  },
  {
   "cell_type": "code",
   "execution_count": 7,
   "metadata": {},
   "outputs": [
    {
     "data": {
      "text/plain": [
       "(1,)"
      ]
     },
     "execution_count": 7,
     "metadata": {},
     "output_type": "execute_result"
    }
   ],
   "source": [
    "a = task\n",
    "a"
   ]
  },
  {
   "cell_type": "code",
   "execution_count": 9,
   "metadata": {},
   "outputs": [
    {
     "data": {
      "text/plain": [
       "array([1, 1, 1, 1, 1])"
      ]
     },
     "execution_count": 9,
     "metadata": {},
     "output_type": "execute_result"
    }
   ],
   "source": [
    "labels = np.empty(5, dtype=np.int32)\n",
    "labels.fill(a[0])\n",
    "labels"
   ]
  },
  {
   "cell_type": "code",
   "execution_count": 27,
   "metadata": {},
   "outputs": [
    {
     "ename": "KeyError",
     "evalue": "(0, 1)",
     "output_type": "error",
     "traceback": [
      "\u001b[1;31m---------------------------------------------------------------------------\u001b[0m",
      "\u001b[1;31mKeyError\u001b[0m                                  Traceback (most recent call last)",
      "\u001b[1;32m<ipython-input-27-0f4289208a74>\u001b[0m in \u001b[0;36m<module>\u001b[1;34m\u001b[0m\n\u001b[0;32m      1\u001b[0m \u001b[0mmy_dict\u001b[0m \u001b[1;33m=\u001b[0m \u001b[1;33m{\u001b[0m\u001b[1;36m0\u001b[0m\u001b[1;33m:\u001b[0m \u001b[1;33m[\u001b[0m\u001b[1;36m1\u001b[0m\u001b[1;33m,\u001b[0m\u001b[1;36m2\u001b[0m\u001b[1;33m,\u001b[0m\u001b[1;36m3\u001b[0m\u001b[1;33m,\u001b[0m\u001b[1;36m4\u001b[0m\u001b[1;33m]\u001b[0m\u001b[1;33m,\u001b[0m \u001b[1;36m1\u001b[0m\u001b[1;33m:\u001b[0m \u001b[1;33m[\u001b[0m\u001b[1;36m5\u001b[0m\u001b[1;33m,\u001b[0m\u001b[1;36m7\u001b[0m\u001b[1;33m,\u001b[0m\u001b[1;36m8\u001b[0m\u001b[1;33m,\u001b[0m\u001b[1;36m9\u001b[0m\u001b[1;33m]\u001b[0m\u001b[1;33m}\u001b[0m\u001b[1;33m\u001b[0m\u001b[1;33m\u001b[0m\u001b[0m\n\u001b[1;32m----> 2\u001b[1;33m \u001b[0mlabel_ids\u001b[0m \u001b[1;33m=\u001b[0m \u001b[0mnp\u001b[0m\u001b[1;33m.\u001b[0m\u001b[0mrandom\u001b[0m\u001b[1;33m.\u001b[0m\u001b[0mchoice\u001b[0m\u001b[1;33m(\u001b[0m\u001b[0mmy_dict\u001b[0m\u001b[1;33m[\u001b[0m\u001b[1;36m0\u001b[0m\u001b[1;33m,\u001b[0m\u001b[1;36m1\u001b[0m\u001b[1;33m]\u001b[0m\u001b[1;33m,\u001b[0m \u001b[1;36m5\u001b[0m\u001b[1;33m)\u001b[0m\u001b[1;33m\u001b[0m\u001b[1;33m\u001b[0m\u001b[0m\n\u001b[0m\u001b[0;32m      3\u001b[0m \u001b[1;33m\u001b[0m\u001b[0m\n\u001b[0;32m      4\u001b[0m \u001b[0mlabel_ids\u001b[0m\u001b[1;33m\u001b[0m\u001b[1;33m\u001b[0m\u001b[0m\n",
      "\u001b[1;31mKeyError\u001b[0m: (0, 1)"
     ]
    }
   ],
   "source": [
    "my_dict = {0: [1,2,3,4], 1: [5,7,8,9]}\n",
    "label_ids = np.random.choice(my_dict[0,1], 5)\n",
    "\n",
    "label_ids"
   ]
  },
  {
   "cell_type": "code",
   "execution_count": 19,
   "metadata": {},
   "outputs": [],
   "source": [
    "a"
   ]
  }
 ],
 "metadata": {
  "interpreter": {
   "hash": "c6c1123bfc613396f7a5d16b167f9758d10a40f855160efe6617310612cad20b"
  },
  "kernelspec": {
   "display_name": "Python 3.6.13 64-bit ('pro': conda)",
   "language": "python",
   "name": "python3"
  },
  "language_info": {
   "codemirror_mode": {
    "name": "ipython",
    "version": 3
   },
   "file_extension": ".py",
   "mimetype": "text/x-python",
   "name": "python",
   "nbconvert_exporter": "python",
   "pygments_lexer": "ipython3",
   "version": "3.6.13"
  },
  "orig_nbformat": 4
 },
 "nbformat": 4,
 "nbformat_minor": 2
}
